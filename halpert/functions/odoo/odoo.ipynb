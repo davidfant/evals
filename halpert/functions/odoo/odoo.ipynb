{
 "cells": [
  {
   "cell_type": "markdown",
   "metadata": {},
   "source": [
    "# Setup"
   ]
  },
  {
   "cell_type": "code",
   "execution_count": 1,
   "metadata": {},
   "outputs": [],
   "source": [
    "%load_ext autoreload\n",
    "%autoreload 2\n",
    "\n",
    "# get repo root and cd to it\n",
    "import os\n",
    "import git\n",
    "\n",
    "repo = git.Repo('.', search_parent_directories=True)\n",
    "os.chdir(repo.working_dir)"
   ]
  },
  {
   "cell_type": "markdown",
   "metadata": {},
   "source": [
    "# Functions"
   ]
  },
  {
   "cell_type": "markdown",
   "metadata": {},
   "source": [
    "## Calendar"
   ]
  },
  {
   "cell_type": "code",
   "execution_count": 37,
   "metadata": {},
   "outputs": [
    {
     "name": "stdout",
     "output_type": "stream",
     "text": [
      "{\n",
      "  \"events\": [\n",
      "    {\n",
      "      \"id\": 1,\n",
      "      \"name\": \"ko\",\n",
      "      \"description\": \"\",\n",
      "      \"start\": \"2023-11-22\",\n",
      "      \"end\": \"2023-11-22\",\n",
      "      \"attendees\": [\n",
      "        {\n",
      "          \"id\": 3,\n",
      "          \"name\": \"Administrator\",\n",
      "          \"is_organizer\": true\n",
      "        }\n",
      "      ]\n",
      "    }\n",
      "  ]\n",
      "}\n"
     ]
    }
   ],
   "source": [
    "import json\n",
    "from halpert.functions.odoo.modules.calendar.list_events import list_events, Input\n",
    "\n",
    "output = await list_events.call(Input(\n",
    "  start_date='2021-01-01',\n",
    "  end_date='2024-12-31',\n",
    "))\n",
    "print(json.dumps(output.dict(), indent=2))"
   ]
  },
  {
   "cell_type": "code",
   "execution_count": 10,
   "metadata": {},
   "outputs": [
    {
     "name": "stdout",
     "output_type": "stream",
     "text": [
      "{\n",
      "  \"event\": {\n",
      "    \"id\": 18,\n",
      "    \"name\": \"name\",\n",
      "    \"description\": \"<p>description</p>\",\n",
      "    \"start\": \"2021-01-01 12:00:00\",\n",
      "    \"end\": \"2024-12-31 13:00:00\",\n",
      "    \"attendees\": [\n",
      "      {\n",
      "        \"id\": 3,\n",
      "        \"name\": \"Administrator\",\n",
      "        \"is_organizer\": true\n",
      "      },\n",
      "      {\n",
      "        \"id\": 7,\n",
      "        \"name\": \"test@best.com\",\n",
      "        \"is_organizer\": false\n",
      "      }\n",
      "    ]\n",
      "  }\n",
      "}\n"
     ]
    }
   ],
   "source": [
    "import json\n",
    "from halpert.functions.odoo.modules.calendar.create_event import create_event, Input\n",
    "\n",
    "output = await create_event.call(Input(\n",
    "  name='name',\n",
    "  description='description',\n",
    "  attendee_ids=[3],\n",
    "  start_date='2021-01-01 12:00',\n",
    "  end_date='2024-12-31 13:00',\n",
    "))\n",
    "print(json.dumps(output.dict(), indent=2))"
   ]
  },
  {
   "cell_type": "markdown",
   "metadata": {},
   "source": [
    "## Ecommerce"
   ]
  },
  {
   "cell_type": "code",
   "execution_count": 33,
   "metadata": {},
   "outputs": [
    {
     "name": "stdout",
     "output_type": "stream",
     "text": [
      "[\n",
      "  {\n",
      "    \"id\": 11,\n",
      "    \"name\": \"Chiffon Jumpsuit\",\n",
      "    \"list_price\": 35.0,\n",
      "    \"qty_available\": 1.0\n",
      "  },\n",
      "  {\n",
      "    \"id\": 18,\n",
      "    \"name\": \"Full sleeve jumpsuit\",\n",
      "    \"list_price\": 15.0,\n",
      "    \"qty_available\": 0.0\n",
      "  },\n",
      "  {\n",
      "    \"id\": 25,\n",
      "    \"name\": \"Red Striped Jumpsuit\",\n",
      "    \"list_price\": 80.0,\n",
      "    \"qty_available\": 0.0\n",
      "  }\n",
      "]\n",
      "{\n",
      "  \"products\": [\n",
      "    {\n",
      "      \"id\": 11,\n",
      "      \"name\": \"Chiffon Jumpsuit\",\n",
      "      \"price\": 35,\n",
      "      \"available\": true\n",
      "    },\n",
      "    {\n",
      "      \"id\": 18,\n",
      "      \"name\": \"Full sleeve jumpsuit\",\n",
      "      \"price\": 15,\n",
      "      \"available\": false\n",
      "    },\n",
      "    {\n",
      "      \"id\": 25,\n",
      "      \"name\": \"Red Striped Jumpsuit\",\n",
      "      \"price\": 80,\n",
      "      \"available\": false\n",
      "    }\n",
      "  ]\n",
      "}\n"
     ]
    }
   ],
   "source": [
    "import json\n",
    "from halpert.functions.odoo.modules.ecommerce.search_products import search_products, Input\n",
    "\n",
    "output = await search_products.call(Input(query='jumpsuit'))\n",
    "print(json.dumps(output.dict(), indent=2))"
   ]
  }
 ],
 "metadata": {
  "kernelspec": {
   "display_name": "Python 3",
   "language": "python",
   "name": "python3"
  },
  "language_info": {
   "codemirror_mode": {
    "name": "ipython",
    "version": 3
   },
   "file_extension": ".py",
   "mimetype": "text/x-python",
   "name": "python",
   "nbconvert_exporter": "python",
   "pygments_lexer": "ipython3",
   "version": "3.11.6"
  }
 },
 "nbformat": 4,
 "nbformat_minor": 2
}

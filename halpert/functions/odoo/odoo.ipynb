{
 "cells": [
  {
   "cell_type": "markdown",
   "metadata": {},
   "source": [
    "# Setup"
   ]
  },
  {
   "cell_type": "code",
   "execution_count": null,
   "metadata": {},
   "outputs": [],
   "source": [
    "%load_ext autoreload\n",
    "%autoreload 2\n",
    "\n",
    "# get repo root and cd to it\n",
    "import os\n",
    "import git\n",
    "\n",
    "repo = git.Repo('.', search_parent_directories=True)\n",
    "os.chdir(repo.working_dir)"
   ]
  },
  {
   "cell_type": "markdown",
   "metadata": {},
   "source": [
    "# Functions"
   ]
  },
  {
   "cell_type": "markdown",
   "metadata": {},
   "source": [
    "## Calendar"
   ]
  },
  {
   "cell_type": "code",
   "execution_count": 38,
   "metadata": {},
   "outputs": [
    {
     "ename": "ProtocolError",
     "evalue": "<ProtocolError for localhost:8069/xmlrpc/2/common: 500 INTERNAL SERVER ERROR>",
     "output_type": "error",
     "traceback": [
      "\u001b[0;31m---------------------------------------------------------------------------\u001b[0m",
      "\u001b[0;31mProtocolError\u001b[0m                             Traceback (most recent call last)",
      "\u001b[1;32m/Users/fant/repos/ai/halpert/halpert/functions/odoo/odoo.ipynb Cell 5\u001b[0m line \u001b[0;36m4\n\u001b[1;32m      <a href='vscode-notebook-cell:/Users/fant/repos/ai/halpert/halpert/functions/odoo/odoo.ipynb#X11sZmlsZQ%3D%3D?line=0'>1</a>\u001b[0m \u001b[39mimport\u001b[39;00m \u001b[39mjson\u001b[39;00m\n\u001b[1;32m      <a href='vscode-notebook-cell:/Users/fant/repos/ai/halpert/halpert/functions/odoo/odoo.ipynb#X11sZmlsZQ%3D%3D?line=1'>2</a>\u001b[0m \u001b[39mfrom\u001b[39;00m \u001b[39mhalpert\u001b[39;00m\u001b[39m.\u001b[39;00m\u001b[39mfunctions\u001b[39;00m\u001b[39m.\u001b[39;00m\u001b[39modoo\u001b[39;00m\u001b[39m.\u001b[39;00m\u001b[39mmodules\u001b[39;00m\u001b[39m.\u001b[39;00m\u001b[39mcalendar\u001b[39;00m\u001b[39m.\u001b[39;00m\u001b[39mlist_events\u001b[39;00m \u001b[39mimport\u001b[39;00m list_events, Input\n\u001b[0;32m----> <a href='vscode-notebook-cell:/Users/fant/repos/ai/halpert/halpert/functions/odoo/odoo.ipynb#X11sZmlsZQ%3D%3D?line=3'>4</a>\u001b[0m output \u001b[39m=\u001b[39m \u001b[39mawait\u001b[39;00m list_events\u001b[39m.\u001b[39mcall(Input(\n\u001b[1;32m      <a href='vscode-notebook-cell:/Users/fant/repos/ai/halpert/halpert/functions/odoo/odoo.ipynb#X11sZmlsZQ%3D%3D?line=4'>5</a>\u001b[0m   start_date\u001b[39m=\u001b[39m\u001b[39m'\u001b[39m\u001b[39m2021-01-01\u001b[39m\u001b[39m'\u001b[39m,\n\u001b[1;32m      <a href='vscode-notebook-cell:/Users/fant/repos/ai/halpert/halpert/functions/odoo/odoo.ipynb#X11sZmlsZQ%3D%3D?line=5'>6</a>\u001b[0m   end_date\u001b[39m=\u001b[39m\u001b[39m'\u001b[39m\u001b[39m2024-12-31\u001b[39m\u001b[39m'\u001b[39m,\n\u001b[1;32m      <a href='vscode-notebook-cell:/Users/fant/repos/ai/halpert/halpert/functions/odoo/odoo.ipynb#X11sZmlsZQ%3D%3D?line=6'>7</a>\u001b[0m ))\n\u001b[1;32m      <a href='vscode-notebook-cell:/Users/fant/repos/ai/halpert/halpert/functions/odoo/odoo.ipynb#X11sZmlsZQ%3D%3D?line=7'>8</a>\u001b[0m \u001b[39mprint\u001b[39m(json\u001b[39m.\u001b[39mdumps(output\u001b[39m.\u001b[39mdict(), indent\u001b[39m=\u001b[39m\u001b[39m2\u001b[39m))\n",
      "File \u001b[0;32m~/repos/ai/halpert/halpert/functions/odoo/modules/calendar/list_events.py:19\u001b[0m, in \u001b[0;36mlist_events_call\u001b[0;34m(input)\u001b[0m\n\u001b[1;32m     18\u001b[0m \u001b[39masync\u001b[39;00m \u001b[39mdef\u001b[39;00m \u001b[39mlist_events_call\u001b[39m(\u001b[39minput\u001b[39m: Input) \u001b[39m-\u001b[39m\u001b[39m>\u001b[39m Output:\n\u001b[0;32m---> 19\u001b[0m   odoo \u001b[39m=\u001b[39m OdooAPI()\n\u001b[1;32m     20\u001b[0m   start_date \u001b[39m=\u001b[39m arrow\u001b[39m.\u001b[39mget(\u001b[39minput\u001b[39m\u001b[39m.\u001b[39mstart_date)\u001b[39m.\u001b[39mfloor(\u001b[39m'\u001b[39m\u001b[39mday\u001b[39m\u001b[39m'\u001b[39m)\u001b[39m.\u001b[39mformat(\u001b[39m'\u001b[39m\u001b[39mYYYY-MM-DD HH:mm\u001b[39m\u001b[39m'\u001b[39m)\n\u001b[1;32m     21\u001b[0m   end_date \u001b[39m=\u001b[39m arrow\u001b[39m.\u001b[39mget(\u001b[39minput\u001b[39m\u001b[39m.\u001b[39mend_date)\u001b[39m.\u001b[39mceil(\u001b[39m'\u001b[39m\u001b[39mday\u001b[39m\u001b[39m'\u001b[39m)\u001b[39m.\u001b[39mformat(\u001b[39m'\u001b[39m\u001b[39mYYYY-MM-DD HH:mm\u001b[39m\u001b[39m'\u001b[39m)\n",
      "File \u001b[0;32m~/repos/ai/halpert/halpert/functions/odoo/api.py:26\u001b[0m, in \u001b[0;36mOdooAPI.__init__\u001b[0;34m(self)\u001b[0m\n\u001b[1;32m     25\u001b[0m \u001b[39mdef\u001b[39;00m \u001b[39m__init__\u001b[39m(\u001b[39mself\u001b[39m):\n\u001b[0;32m---> 26\u001b[0m   \u001b[39mself\u001b[39m\u001b[39m.\u001b[39muser_id \u001b[39m=\u001b[39m \u001b[39mself\u001b[39;49m\u001b[39m.\u001b[39;49m_get_user_id()\n",
      "File \u001b[0;32m~/repos/ai/halpert/halpert/functions/odoo/api.py:31\u001b[0m, in \u001b[0;36mOdooAPI._get_user_id\u001b[0;34m(self)\u001b[0m\n\u001b[1;32m     29\u001b[0m \u001b[39mdef\u001b[39;00m \u001b[39m_get_user_id\u001b[39m(\u001b[39mself\u001b[39m) \u001b[39m-\u001b[39m\u001b[39m>\u001b[39m \u001b[39mint\u001b[39m:\n\u001b[1;32m     30\u001b[0m   common \u001b[39m=\u001b[39m xmlrpc\u001b[39m.\u001b[39mclient\u001b[39m.\u001b[39mServerProxy(\u001b[39mf\u001b[39m\u001b[39m'\u001b[39m\u001b[39m{\u001b[39;00m\u001b[39mself\u001b[39m\u001b[39m.\u001b[39murl\u001b[39m}\u001b[39;00m\u001b[39m/xmlrpc/2/common\u001b[39m\u001b[39m'\u001b[39m)\n\u001b[0;32m---> 31\u001b[0m   user_id \u001b[39m=\u001b[39m common\u001b[39m.\u001b[39;49mauthenticate(\u001b[39mself\u001b[39;49m\u001b[39m.\u001b[39;49mdb, \u001b[39mself\u001b[39;49m\u001b[39m.\u001b[39;49musername, \u001b[39mself\u001b[39;49m\u001b[39m.\u001b[39;49mpassword, {})\n\u001b[1;32m     32\u001b[0m   \u001b[39mreturn\u001b[39;00m user_id\n",
      "File \u001b[0;32m/opt/homebrew/Cellar/python@3.11/3.11.6_1/Frameworks/Python.framework/Versions/3.11/lib/python3.11/xmlrpc/client.py:1122\u001b[0m, in \u001b[0;36m_Method.__call__\u001b[0;34m(self, *args)\u001b[0m\n\u001b[1;32m   1121\u001b[0m \u001b[39mdef\u001b[39;00m \u001b[39m__call__\u001b[39m(\u001b[39mself\u001b[39m, \u001b[39m*\u001b[39margs):\n\u001b[0;32m-> 1122\u001b[0m     \u001b[39mreturn\u001b[39;00m \u001b[39mself\u001b[39;49m\u001b[39m.\u001b[39;49m__send(\u001b[39mself\u001b[39;49m\u001b[39m.\u001b[39;49m__name, args)\n",
      "File \u001b[0;32m/opt/homebrew/Cellar/python@3.11/3.11.6_1/Frameworks/Python.framework/Versions/3.11/lib/python3.11/xmlrpc/client.py:1464\u001b[0m, in \u001b[0;36mServerProxy.__request\u001b[0;34m(self, methodname, params)\u001b[0m\n\u001b[1;32m   1458\u001b[0m \u001b[39mdef\u001b[39;00m \u001b[39m__request\u001b[39m(\u001b[39mself\u001b[39m, methodname, params):\n\u001b[1;32m   1459\u001b[0m     \u001b[39m# call a method on the remote server\u001b[39;00m\n\u001b[1;32m   1461\u001b[0m     request \u001b[39m=\u001b[39m dumps(params, methodname, encoding\u001b[39m=\u001b[39m\u001b[39mself\u001b[39m\u001b[39m.\u001b[39m__encoding,\n\u001b[1;32m   1462\u001b[0m                     allow_none\u001b[39m=\u001b[39m\u001b[39mself\u001b[39m\u001b[39m.\u001b[39m__allow_none)\u001b[39m.\u001b[39mencode(\u001b[39mself\u001b[39m\u001b[39m.\u001b[39m__encoding, \u001b[39m'\u001b[39m\u001b[39mxmlcharrefreplace\u001b[39m\u001b[39m'\u001b[39m)\n\u001b[0;32m-> 1464\u001b[0m     response \u001b[39m=\u001b[39m \u001b[39mself\u001b[39;49m\u001b[39m.\u001b[39;49m__transport\u001b[39m.\u001b[39;49mrequest(\n\u001b[1;32m   1465\u001b[0m         \u001b[39mself\u001b[39;49m\u001b[39m.\u001b[39;49m__host,\n\u001b[1;32m   1466\u001b[0m         \u001b[39mself\u001b[39;49m\u001b[39m.\u001b[39;49m__handler,\n\u001b[1;32m   1467\u001b[0m         request,\n\u001b[1;32m   1468\u001b[0m         verbose\u001b[39m=\u001b[39;49m\u001b[39mself\u001b[39;49m\u001b[39m.\u001b[39;49m__verbose\n\u001b[1;32m   1469\u001b[0m         )\n\u001b[1;32m   1471\u001b[0m     \u001b[39mif\u001b[39;00m \u001b[39mlen\u001b[39m(response) \u001b[39m==\u001b[39m \u001b[39m1\u001b[39m:\n\u001b[1;32m   1472\u001b[0m         response \u001b[39m=\u001b[39m response[\u001b[39m0\u001b[39m]\n",
      "File \u001b[0;32m/opt/homebrew/Cellar/python@3.11/3.11.6_1/Frameworks/Python.framework/Versions/3.11/lib/python3.11/xmlrpc/client.py:1166\u001b[0m, in \u001b[0;36mTransport.request\u001b[0;34m(self, host, handler, request_body, verbose)\u001b[0m\n\u001b[1;32m   1164\u001b[0m \u001b[39mfor\u001b[39;00m i \u001b[39min\u001b[39;00m (\u001b[39m0\u001b[39m, \u001b[39m1\u001b[39m):\n\u001b[1;32m   1165\u001b[0m     \u001b[39mtry\u001b[39;00m:\n\u001b[0;32m-> 1166\u001b[0m         \u001b[39mreturn\u001b[39;00m \u001b[39mself\u001b[39;49m\u001b[39m.\u001b[39;49msingle_request(host, handler, request_body, verbose)\n\u001b[1;32m   1167\u001b[0m     \u001b[39mexcept\u001b[39;00m http\u001b[39m.\u001b[39mclient\u001b[39m.\u001b[39mRemoteDisconnected:\n\u001b[1;32m   1168\u001b[0m         \u001b[39mif\u001b[39;00m i:\n",
      "File \u001b[0;32m/opt/homebrew/Cellar/python@3.11/3.11.6_1/Frameworks/Python.framework/Versions/3.11/lib/python3.11/xmlrpc/client.py:1196\u001b[0m, in \u001b[0;36mTransport.single_request\u001b[0;34m(self, host, handler, request_body, verbose)\u001b[0m\n\u001b[1;32m   1194\u001b[0m \u001b[39mif\u001b[39;00m resp\u001b[39m.\u001b[39mgetheader(\u001b[39m\"\u001b[39m\u001b[39mcontent-length\u001b[39m\u001b[39m\"\u001b[39m, \u001b[39m\"\u001b[39m\u001b[39m\"\u001b[39m):\n\u001b[1;32m   1195\u001b[0m     resp\u001b[39m.\u001b[39mread()\n\u001b[0;32m-> 1196\u001b[0m \u001b[39mraise\u001b[39;00m ProtocolError(\n\u001b[1;32m   1197\u001b[0m     host \u001b[39m+\u001b[39m handler,\n\u001b[1;32m   1198\u001b[0m     resp\u001b[39m.\u001b[39mstatus, resp\u001b[39m.\u001b[39mreason,\n\u001b[1;32m   1199\u001b[0m     \u001b[39mdict\u001b[39m(resp\u001b[39m.\u001b[39mgetheaders())\n\u001b[1;32m   1200\u001b[0m     )\n",
      "\u001b[0;31mProtocolError\u001b[0m: <ProtocolError for localhost:8069/xmlrpc/2/common: 500 INTERNAL SERVER ERROR>"
     ]
    }
   ],
   "source": [
    "import json\n",
    "from halpert.functions.odoo.modules.calendar.list_events import list_events, Input\n",
    "\n",
    "output = await list_events.call(Input(\n",
    "  start_date='2021-01-01',\n",
    "  end_date='2024-12-31',\n",
    "))\n",
    "print(json.dumps(output.dict(), indent=2))"
   ]
  },
  {
   "cell_type": "code",
   "execution_count": null,
   "metadata": {},
   "outputs": [],
   "source": [
    "import json\n",
    "from halpert.functions.odoo.modules.calendar.create_event import create_event, Input\n",
    "\n",
    "output = await create_event.call(Input(\n",
    "  name='name',\n",
    "  description='description',\n",
    "  attendee_ids=[3],\n",
    "  start_date='2021-01-01 12:00',\n",
    "  end_date='2024-12-31 13:00',\n",
    "))\n",
    "print(json.dumps(output.dict(), indent=2))"
   ]
  },
  {
   "cell_type": "markdown",
   "metadata": {},
   "source": [
    "## Ecommerce"
   ]
  },
  {
   "cell_type": "code",
   "execution_count": null,
   "metadata": {},
   "outputs": [],
   "source": [
    "import json\n",
    "from halpert.functions.odoo.modules.ecommerce.search_products import search_products, Input\n",
    "\n",
    "output = await search_products.call(Input(query='cheese'))\n",
    "print(json.dumps(output.dict(), indent=2))"
   ]
  },
  {
   "cell_type": "code",
   "execution_count": null,
   "metadata": {},
   "outputs": [],
   "source": [
    "import json\n",
    "from halpert.functions.odoo.modules.ecommerce.create_customer import create_customer, Input\n",
    "\n",
    "output = await create_customer.call(Input(\n",
    "  name='Customer Name',\n",
    "  address=Input.Address(\n",
    "    street='123 Main St',\n",
    "    city='City',\n",
    "    zip='12345',\n",
    "  ),\n",
    "))\n",
    "print(json.dumps(output.dict(), indent=2))"
   ]
  },
  {
   "cell_type": "code",
   "execution_count": null,
   "metadata": {},
   "outputs": [],
   "source": [
    "import json\n",
    "from halpert.functions.odoo.modules.ecommerce.create_order import create_order, Input\n",
    "\n",
    "output = await create_order.call(Input(\n",
    "  customer_id=10,\n",
    "  line_items=[Input.LineItem(\n",
    "    product_id=2,\n",
    "    quantity=2,\n",
    "  )]\n",
    "))\n",
    "print(json.dumps(output.dict(), indent=2))"
   ]
  }
 ],
 "metadata": {
  "kernelspec": {
   "display_name": "Python 3",
   "language": "python",
   "name": "python3"
  },
  "language_info": {
   "codemirror_mode": {
    "name": "ipython",
    "version": 3
   },
   "file_extension": ".py",
   "mimetype": "text/x-python",
   "name": "python",
   "nbconvert_exporter": "python",
   "pygments_lexer": "ipython3",
   "version": "3.11.6"
  }
 },
 "nbformat": 4,
 "nbformat_minor": 2
}

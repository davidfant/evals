{
 "cells": [
  {
   "cell_type": "code",
   "execution_count": 1,
   "metadata": {},
   "outputs": [
    {
     "data": {
      "text/plain": [
       "{'server_version': '17.0-20231120',\n",
       " 'server_version_info': [17, 0, 0, 'final', 0, ''],\n",
       " 'server_serie': '17.0',\n",
       " 'protocol_version': 1}"
      ]
     },
     "execution_count": 1,
     "metadata": {},
     "output_type": "execute_result"
    }
   ],
   "source": [
    "url = 'http://localhost:8069'\n",
    "username = 'admin'\n",
    "password = 'admin'\n",
    "db = 'odoo'\n",
    "\n",
    "import xmlrpc.client\n",
    "\n",
    "common = xmlrpc.client.ServerProxy(f'{url}/xmlrpc/2/common')\n",
    "common.version()\n",
    "\n",
    "uid = common.authenticate(db, username, password, {})"
   ]
  }
 ],
 "metadata": {
  "kernelspec": {
   "display_name": "Python 3",
   "language": "python",
   "name": "python3"
  },
  "language_info": {
   "codemirror_mode": {
    "name": "ipython",
    "version": 3
   },
   "file_extension": ".py",
   "mimetype": "text/x-python",
   "name": "python",
   "nbconvert_exporter": "python",
   "pygments_lexer": "ipython3",
   "version": "3.11.6"
  }
 },
 "nbformat": 4,
 "nbformat_minor": 2
}
